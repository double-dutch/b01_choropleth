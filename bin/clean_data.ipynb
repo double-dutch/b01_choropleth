{
 "metadata": {
  "name": ""
 },
 "nbformat": 3,
 "nbformat_minor": 0,
 "worksheets": [
  {
   "cells": [
    {
     "cell_type": "code",
     "collapsed": false,
     "input": [
      "# Loading data\n",
      "import pickle, json\n",
      "import matplotlib.pyplot as plt\n",
      "%matplotlib inline\n",
      "f = open('../../scraper/data/2015_01_22/data_breweries','r')\n",
      "d = pickle.load(f)\n",
      "f.close()\n",
      "\n",
      "# Folder locations\n",
      "path_root   = '/Users/howland/Documents/Data Science/'\n",
      "path_census = path_root + 'reference/us-census/'\n",
      "path_topo   = path_root + 'reference/us-atlas/topo/'"
     ],
     "language": "python",
     "metadata": {},
     "outputs": [],
     "prompt_number": 1
    },
    {
     "cell_type": "code",
     "collapsed": false,
     "input": [
      "# Generating list of open, US breweries\n",
      "b       = d.keys()\n",
      "header  = ['brewery', 'index', 'state', 'zip', 'avg_rating', 'n_beer', 'n_rating']\n",
      "brew_US = []\n",
      "for i in range(len(b)):\n",
      "    \n",
      "    # Checking if brewery is (a) open and (b) American\n",
      "    isOpen  = d[b[i]][1]\n",
      "    country = d[b[i]][2]\n",
      "    \n",
      "    # If so, appending to data\n",
      "    if country == 'US' and isOpen == 1: \n",
      "        data_i = [b[i], d[b[i]][0], d[b[i]][3], d[b[i]][4], \n",
      "                  d[b[i]][5], d[b[i]][7], d[b[i]][6]]\n",
      "        brew_US.append(data_i)"
     ],
     "language": "python",
     "metadata": {},
     "outputs": [],
     "prompt_number": 2
    },
    {
     "cell_type": "code",
     "collapsed": false,
     "input": [
      "# Stata-level summaries\n",
      "import numpy as np\n",
      "import pandas as pd\n",
      "df       = pd.DataFrame(brew_US, columns = header)\n",
      "df.index = df.pop('index')\n",
      "\n",
      "# Number of breweries\n",
      "n_breweries = pd.DataFrame(df.pop('brewery').groupby(df.pop('state')).count(), columns = ['n_breweries'])\n"
     ],
     "language": "python",
     "metadata": {},
     "outputs": [],
     "prompt_number": 3
    },
    {
     "cell_type": "code",
     "collapsed": false,
     "input": [
      "# Reading in census data\n",
      "df_census = pd.read_table(path_census + 'DataSet.txt', delimiter = ',')\n",
      "\n",
      "# Dropping rows for counties\n",
      "ix_states = pd.concat([df_census['fips'] % 1000 == 0, df_census['fips'] != 0], axis = 1).all(axis = 1)\n",
      "df_states = df_census.loc[ix_states,:]\n",
      "df_states['fips'] = df_states['fips'] / 1e3\n",
      "df_states.index = df_states['fips']\n",
      "df_states = df_states.drop('fips',1)\n",
      "\n",
      "# Keeping columns of interest, changing units\n",
      "df_states = df_states[['PST045213', 'LND110210']]\n",
      "df_states.columns = ['pop_2013', 'area_2010']\n",
      "df_states['pop_2013'] = df_states['pop_2013'] / 1e5\n",
      "df_states['area_2010'] = df_states['area_2010'] / 1e4\n",
      "df_states.head()\n",
      "\n",
      "# Histogram of population\n",
      "plt.figure();\n",
      "#df_states.plot(kind='hist', alpha=0.5)\n",
      "df_states['pop_2013'].hist()"
     ],
     "language": "python",
     "metadata": {},
     "outputs": [
      {
       "metadata": {},
       "output_type": "pyout",
       "prompt_number": 9,
       "text": [
        "<matplotlib.axes.AxesSubplot at 0x115178890>"
       ]
      },
      {
       "metadata": {},
       "output_type": "display_data",
       "png": "[encoded data removed]",
       "text": [
        "<matplotlib.figure.Figure at 0x114de4390>"
       ]
      }
     ],
     "prompt_number": 9
    },
    {
     "cell_type": "code",
     "collapsed": false,
     "input": [
      "# Merging State abbreviations to full state names\n",
      "\n",
      "# Calling and cleaning state IDs\n",
      "state_ids = pd.read_table(path_topo + 'us-state-names.tsv')\n",
      "state_ids.index = state_ids['code']\n",
      "state_ids = state_ids.drop(['code', 'name'], 1)\n",
      "\n",
      "# Merging number of breweries to FIPs\n",
      "data_out  = state_ids.join(n_breweries, how = 'inner')\n",
      "data_out.index = data_out['id']\n",
      "data_out = data_out.drop('id',1)\n",
      "data_out.head()\n",
      "\n",
      "# Merging in census data\n",
      "data_out = data_out.join(df_states, how = 'inner')\n",
      "\n",
      "# New series\n",
      "data_out['nbrew_norm_pop'] = data_out['n_breweries'] / data_out['pop_2013']\n",
      "data_out['nbrew_norm_area'] = data_out['n_breweries'] / data_out['area_2010']\n",
      "data_out = data_out.drop(['pop_2013', 'area_2010'],1)\n",
      "data_out.columns = ['nbrew', 'nbrew_norm_pop', 'nbrew_norm_area']"
     ],
     "language": "python",
     "metadata": {},
     "outputs": [],
     "prompt_number": 16
    },
    {
     "cell_type": "code",
     "collapsed": false,
     "input": [
      "# Writing data to file\n",
      "data_out.to_csv('../data/breweries_US.csv')\n",
      "\n",
      "# Merging with TopoJSON data\n",
      "import os, re\n",
      "cmd = 'topojson -o ../data/us-states-named.json -e ../data/breweries_US.csv -p -- ' + \\\n",
      "    re.escape(path_topo) + 'us-states-10m-named.json'\n",
      "os.system(cmd)\n",
      "os.system('rm ../data/breweries_US.csv')"
     ],
     "language": "python",
     "metadata": {},
     "outputs": [
      {
       "metadata": {},
       "output_type": "pyout",
       "prompt_number": 17,
       "text": [
        "0"
       ]
      }
     ],
     "prompt_number": 17
    },
    {
     "cell_type": "code",
     "collapsed": false,
     "input": [],
     "language": "python",
     "metadata": {},
     "outputs": [],
     "prompt_number": 37
    },
    {
     "cell_type": "code",
     "collapsed": false,
     "input": [],
     "language": "python",
     "metadata": {},
     "outputs": [],
     "prompt_number": 31
    },
    {
     "cell_type": "code",
     "collapsed": false,
     "input": [],
     "language": "python",
     "metadata": {},
     "outputs": []
    }
   ],
   "metadata": {}
  }
 ]
}