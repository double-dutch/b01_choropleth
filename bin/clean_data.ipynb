{
 "metadata": {
  "name": ""
 },
 "nbformat": 3,
 "nbformat_minor": 0,
 "worksheets": [
  {
   "cells": [
    {
     "cell_type": "code",
     "collapsed": false,
     "input": [
      "# Loading data\n",
      "import pickle, json\n",
      "f = open('../../scraper/data/2015_01_22/data_breweries','r')\n",
      "d = pickle.load(f)\n",
      "f.close()"
     ],
     "language": "python",
     "metadata": {},
     "outputs": [],
     "prompt_number": 1
    },
    {
     "cell_type": "code",
     "collapsed": false,
     "input": [
      "# Generating list of open, US breweries\n",
      "b       = d.keys()\n",
      "header  = ['brewery', 'index', 'state', 'zip', 'avg_rating', 'n_beer', 'n_rating']\n",
      "brew_US = []\n",
      "for i in range(len(b)):\n",
      "    \n",
      "    # Checking if brewery is (a) open and (b) American\n",
      "    isOpen  = d[b[i]][1]\n",
      "    country = d[b[i]][2]\n",
      "    \n",
      "    # If so, appending to data\n",
      "    if country == 'US' and isOpen == 1: \n",
      "        data_i = [b[i], d[b[i]][0], d[b[i]][3], d[b[i]][4], \n",
      "                  d[b[i]][5], d[b[i]][7], d[b[i]][6]]\n",
      "        brew_US.append(data_i)"
     ],
     "language": "python",
     "metadata": {},
     "outputs": [],
     "prompt_number": 2
    },
    {
     "cell_type": "code",
     "collapsed": false,
     "input": [
      "# Stata-level summaries\n",
      "import numpy as np\n",
      "import pandas as pd\n",
      "df       = pd.DataFrame(brew_US, columns = header)\n",
      "df.index = df.pop('index')\n",
      "\n",
      "# Number of breweries\n",
      "n_breweries = pd.DataFrame(df.pop('brewery').groupby(df.pop('state')).count(), columns = ['n_breweries'])\n"
     ],
     "language": "python",
     "metadata": {},
     "outputs": [],
     "prompt_number": 3
    },
    {
     "cell_type": "code",
     "collapsed": false,
     "input": [
      "# Merging State abbreviations to full state names \n",
      "states   = pd.DataFrame(pd.read_json('../data/states_hash.json', typ='series'), columns = ['state_name'])\n",
      "data_out = states.join(n_breweries, how = 'inner')\n",
      "data_out.index = data_out['state_name']\n",
      "data_out = data_out.drop('state_name',1)\n",
      "data_out['state'] = data_out.index\n",
      "data_out = data_out.reset_index(drop = True)\n",
      "data_out.head()"
     ],
     "language": "python",
     "metadata": {},
     "outputs": [
      {
       "html": [
        "<div style=\"max-height:1000px;max-width:1500px;overflow:auto;\">\n",
        "<table border=\"1\" class=\"dataframe\">\n",
        "  <thead>\n",
        "    <tr style=\"text-align: right;\">\n",
        "      <th></th>\n",
        "      <th>n_breweries</th>\n",
        "      <th>state</th>\n",
        "    </tr>\n",
        "  </thead>\n",
        "  <tbody>\n",
        "    <tr>\n",
        "      <th>0</th>\n",
        "      <td>  23</td>\n",
        "      <td>     Alaska</td>\n",
        "    </tr>\n",
        "    <tr>\n",
        "      <th>1</th>\n",
        "      <td>  23</td>\n",
        "      <td>    Alabama</td>\n",
        "    </tr>\n",
        "    <tr>\n",
        "      <th>2</th>\n",
        "      <td>  11</td>\n",
        "      <td>   Arkansas</td>\n",
        "    </tr>\n",
        "    <tr>\n",
        "      <th>3</th>\n",
        "      <td>  53</td>\n",
        "      <td>    Arizona</td>\n",
        "    </tr>\n",
        "    <tr>\n",
        "      <th>4</th>\n",
        "      <td> 453</td>\n",
        "      <td> California</td>\n",
        "    </tr>\n",
        "  </tbody>\n",
        "</table>\n",
        "<p>5 rows \u00d7 2 columns</p>\n",
        "</div>"
       ],
       "metadata": {},
       "output_type": "pyout",
       "prompt_number": 4,
       "text": [
        "   n_breweries       state\n",
        "0           23      Alaska\n",
        "1           23     Alabama\n",
        "2           11    Arkansas\n",
        "3           53     Arizona\n",
        "4          453  California\n",
        "\n",
        "[5 rows x 2 columns]"
       ]
      }
     ],
     "prompt_number": 4
    },
    {
     "cell_type": "code",
     "collapsed": false,
     "input": [
      "# Writing data to file\n",
      "data_out.to_json('../data/breweries_US.json', orient = 'records')\n",
      "#with open('../data/breweries_US.txt', 'w+') as outfile:\n",
      "#    json.dump(data_out.to_json(), outfile)"
     ],
     "language": "python",
     "metadata": {},
     "outputs": [],
     "prompt_number": 11
    },
    {
     "cell_type": "code",
     "collapsed": false,
     "input": [],
     "language": "python",
     "metadata": {},
     "outputs": [],
     "prompt_number": 4
    }
   ],
   "metadata": {}
  }
 ]
}